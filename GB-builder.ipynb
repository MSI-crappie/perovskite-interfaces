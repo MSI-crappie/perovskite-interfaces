{
 "cells": [
  {
   "cell_type": "code",
   "execution_count": 1,
   "metadata": {},
   "outputs": [],
   "source": [
    "# import necessary libraries from pymatgen\n",
    "# Please install pymatgen first if fails to load\n",
    "\n",
    "from pymatgen.analysis.gb.grain import GrainBoundaryGenerator\n",
    "from pymatgen.io import vasp\n",
    "from pymatgen import Lattice, Structure, Molecule\n",
    "from pymatgen.io.cif import CifParser"
   ]
  },
  {
   "cell_type": "code",
   "execution_count": 2,
   "metadata": {},
   "outputs": [],
   "source": [
    "# load the orthrombic CsPbI3 structure\n",
    "\n",
    "parser = CifParser('orthrombic-CsPbI3.cif')\n",
    "structure = parser.get_structures()[0]"
   ]
  },
  {
   "cell_type": "code",
   "execution_count": 3,
   "metadata": {},
   "outputs": [],
   "source": [
    "# Use the generator to check grain boundaries\n",
    "\n",
    "GB = GrainBoundaryGenerator(structure)"
   ]
  },
  {
   "cell_type": "code",
   "execution_count": 4,
   "metadata": {},
   "outputs": [
    {
     "data": {
      "text/plain": [
       "{3: [70.52877936550931, 109.47122063449069],\n",
       " 9: [38.94244126898139, 141.05755873101862],\n",
       " 19: [26.52535201660969, 153.4746479833903],\n",
       " 11: [50.47880364135783, 129.5211963586422],\n",
       " 17: [93.37228668343393, 86.6277133165661]}"
      ]
     },
     "execution_count": 4,
     "metadata": {},
     "output_type": "execute_result"
    }
   ],
   "source": [
    "# enumrate the angles for sigma grain boudaries using 100 as rotation axis, and 211 as c2_b2_a2_ratio\n",
    "\n",
    "GB.enum_sigma_ort(20,[1,0,0],[2,1,1])"
   ]
  },
  {
   "cell_type": "code",
   "execution_count": 43,
   "metadata": {},
   "outputs": [],
   "source": [
    "# build the stacking fault structure and save it as a VASP poscar type file.\n",
    "\n",
    "gb_structure = GB.gb_from_parameters([1,0,0], expand_times=2, rotation_angle=0, ab_shift=[0, 0.3],normal=True, vacuum_thickness=0, plane=[0, 1, 1], ratio=[2,1,1])\n",
    "gbstructure = gb_structure.copy()\n",
    "gbstructure.get_sorted_structure().to(fmt='poscar', filename='gb_stackingfailt_0.6.vasp')"
   ]
  }
 ],
 "metadata": {
  "kernelspec": {
   "display_name": "Python 3 (ipykernel)",
   "language": "python",
   "name": "python3"
  },
  "language_info": {
   "codemirror_mode": {
    "name": "ipython",
    "version": 3
   },
   "file_extension": ".py",
   "mimetype": "text/x-python",
   "name": "python",
   "nbconvert_exporter": "python",
   "pygments_lexer": "ipython3",
   "version": "3.8.10"
  }
 },
 "nbformat": 4,
 "nbformat_minor": 4
}
